{
 "cells": [
  {
   "cell_type": "code",
   "execution_count": 1,
   "metadata": {},
   "outputs": [],
   "source": [
    "import numpy as np\n",
    "import sympy as sp"
   ]
  },
  {
   "cell_type": "markdown",
   "metadata": {},
   "source": [
    "# DefCon 24 Badge Challenge"
   ]
  },
  {
   "cell_type": "code",
   "execution_count": 11,
   "metadata": {},
   "outputs": [],
   "source": [
    "def spinner(s, n):\n",
    "    def rotate_letter(c, n):\n",
    "        return chr((((ord(c) - 97) + n) % 26) + 97)\n",
    "    return ''.join([rotate_letter(c, n) for c in s])"
   ]
  },
  {
   "cell_type": "code",
   "execution_count": 19,
   "metadata": {},
   "outputs": [
    {
     "name": "stdout",
     "output_type": "stream",
     "text": [
      "0 gursvirobkvatjvmneqfwhzcdhvpxyl\n",
      "1 hvstwjspclwbukwnofrgxiadeiwqyzm\n",
      "2 iwtuxktqdmxcvlxopgshyjbefjxrzan\n",
      "3 jxuvylurenydwmypqhtizkcfgkysabo\n",
      "4 kyvwzmvsfozexnzqriujaldghlztbcp\n",
      "5 lzwxanwtgpafyoarsjvkbmehimaucdq\n",
      "6 maxyboxuhqbgzpbstkwlcnfijnbvder\n",
      "7 nbyzcpyvirchaqctulxmdogjkocwefs\n",
      "8 oczadqzwjsdibrduvmynephklpdxfgt\n",
      "9 pdaberaxktejcsevwnzofqilmqeyghu\n",
      "10 qebcfsbylufkdtfwxoapgrjmnrfzhiv\n",
      "11 rfcdgtczmvgleugxypbqhsknosgaijw\n",
      "12 sgdehudanwhmfvhyzqcritlopthbjkx\n",
      "13 thefiveboxingwizardsjumpquickly\n",
      "14 uifgjwfcpyjohxjabsetkvnqrvjdlmz\n",
      "15 vjghkxgdqzkpiykbctfulworswkemna\n",
      "16 wkhilyheralqjzlcdugvmxpstxlfnob\n",
      "17 xlijmzifsbmrkamdevhwnyqtuymgopc\n",
      "18 ymjknajgtcnslbnefwixozruvznhpqd\n",
      "19 znklobkhudotmcofgxjypasvwaoiqre\n",
      "20 aolmpclivepundpghykzqbtwxbpjrsf\n",
      "21 bpmnqdmjwfqvoeqhizlarcuxycqkstg\n",
      "22 cqnorenkxgrwpfrijambsdvyzdrltuh\n",
      "23 dropsfolyhsxqgsjkbnctewzaesmuvi\n",
      "24 espqtgpmzityrhtklcodufxabftnvwj\n",
      "25 ftqruhqnajuzsiulmdpevgybcguowxk\n",
      "26 gursvirobkvatjvmneqfwhzcdhvpxyl\n"
     ]
    }
   ],
   "source": [
    "for i in range(27):\n",
    "    print(i, spinner('gursvirobkvatjvmneqfwhzcdhvpxyl', i))"
   ]
  },
  {
   "cell_type": "code",
   "execution_count": 20,
   "metadata": {},
   "outputs": [
    {
     "name": "stdout",
     "output_type": "stream",
     "text": [
      "0 cnpxzlobkjvgusvirqbmrayvdhbewhtf\n",
      "1 doqyampclkwhvtwjsrcnsbzweicfxiug\n",
      "2 eprzbnqdmlxiwuxktsdotcaxfjdgyjvh\n",
      "3 fqsacorenmyjxvylutepudbygkehzkwi\n",
      "4 grtbdpsfonzkywzmvufqveczhlfialxj\n",
      "5 hsuceqtgpoalzxanwvgrwfdaimgjbmyk\n",
      "6 itvdfruhqpbmayboxwhsxgebjnhkcnzl\n",
      "7 juwegsvirqcnbzcpyxityhfckoildoam\n",
      "8 kvxfhtwjsrdocadqzyjuzigdlpjmepbn\n",
      "9 lwygiuxktsepdberazkvajhemqknfqco\n",
      "10 mxzhjvylutfqecfsbalwbkifnrlogrdp\n",
      "11 nyaikwzmvugrfdgtcbmxcljgosmphseq\n",
      "12 ozbjlxanwvhsgehudcnydmkhptnqitfr\n",
      "13 packmyboxwithfivedozenliquorjugs\n",
      "14 qbdlnzcpyxjuigjwfepafomjrvpskvht\n",
      "15 rcemoadqzykvjhkxgfqbgpnkswqtlwiu\n",
      "16 sdfnpberazlwkilyhgrchqoltxrumxjv\n",
      "17 tegoqcfsbamxljmzihsdirpmuysvnykw\n",
      "18 ufhprdgtcbnymknajitejsqnvztwozlx\n",
      "19 vgiqsehudcoznlobkjufktrowauxpamy\n",
      "20 whjrtfivedpaompclkvgluspxbvyqbnz\n",
      "21 xiksugjwfeqbpnqdmlwhmvtqycwzrcoa\n",
      "22 yjltvhkxgfrcqorenmxinwurzdxasdpb\n",
      "23 zkmuwilyhgsdrpsfonyjoxvsaeybteqc\n",
      "24 alnvxjmzihtesqtgpozkpywtbfzcufrd\n",
      "25 bmowyknajiuftruhqpalqzxucgadvgse\n",
      "26 cnpxzlobkjvgusvirqbmrayvdhbewhtf\n"
     ]
    }
   ],
   "source": [
    "for i in range(27):\n",
    "    print(i, spinner('cnpxzlobkjvgusvirqbmrayvdhbewhtf', i))"
   ]
  },
  {
   "cell_type": "code",
   "execution_count": null,
   "metadata": {},
   "outputs": [],
   "source": []
  }
 ],
 "metadata": {
  "kernelspec": {
   "display_name": "Python 3",
   "language": "python",
   "name": "python3"
  },
  "language_info": {
   "codemirror_mode": {
    "name": "ipython",
    "version": 3
   },
   "file_extension": ".py",
   "mimetype": "text/x-python",
   "name": "python",
   "nbconvert_exporter": "python",
   "pygments_lexer": "ipython3",
   "version": "3.5.2"
  }
 },
 "nbformat": 4,
 "nbformat_minor": 0
}
