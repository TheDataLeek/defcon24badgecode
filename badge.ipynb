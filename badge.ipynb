{
 "cells": [
  {
   "cell_type": "code",
   "execution_count": null,
   "metadata": {},
   "outputs": [],
   "source": [
    "import numpy as np\n",
    "import sympy as sp"
   ]
  },
  {
   "cell_type": "markdown",
   "metadata": {},
   "source": [
    "# DefCon 24 Badge Challenge"
   ]
  },
  {
   "cell_type": "code",
   "execution_count": null,
   "metadata": {},
   "outputs": [],
   "source": [
    "import string\n",
    "rows=input().split()\n",
    "result=''\n",
    "for row in rows:\n",
    "    result+=string.ascii_lowercase[int(row[:2])-1]\n",
    "    result+=string.ascii_lowercase[int(row[2:4])-1]\n",
    "print(result) "
   ]
  },
  {
   "cell_type": "code",
   "execution_count": null,
   "metadata": {},
   "outputs": [],
   "source": [
    "def spinner(s, n):\n",
    "    def rotate_letter(c, n):\n",
    "        return chr((((ord(c) - 97) + n) % 26) + 97)\n",
    "    return ''.join([rotate_letter(c, n) for c in s])"
   ]
  },
  {
   "cell_type": "markdown",
   "metadata": {},
   "source": [
    "## Lanyards"
   ]
  },
  {
   "cell_type": "markdown",
   "metadata": {},
   "source": [
    "### Smiley Bones\n",
    "\n",
    "`0314 1624 2612 1502 1110 2207 2119 2209 1817 0213 1801 2522 0408 0205 2308 2006 cnpxzlobkjvgusvirqbmrayvdhbewhtf`\n",
    "\n",
    "packmyboxwithfivedozenliquorjugs\n",
    "\n",
    "### Lock\n",
    "\n",
    "`1426 1413 2201 2025 1219 1810 1722 0616 0207 2118 0408 1806 0305 0209 2217 1823 0824 1815 0211 1806 nznmvatylsrjqvfpbgurdhrfcebivqrwhxrobkrf`\n",
    "\n",
    "amazinglyfewdiscothequesprovidejukeboxes\n",
    "\n",
    "### Floppy\n",
    "\n",
    "`0721 1819 2209 1815 0211 2201 2010 2213 1405 1706 2308 2603 0408 2216 2425 12 gursvirobkvatjvmneqfwhzcdhvpxyl`\n",
    "\n",
    "thefiveboxingwizardsjumpquickly"
   ]
  },
  {
   "cell_type": "markdown",
   "metadata": {},
   "source": [
    "### Rotary"
   ]
  },
  {
   "cell_type": "code",
   "execution_count": 10,
   "metadata": {},
   "outputs": [],
   "source": [
    "rotary = '00100y 00000y 10010y 10010y 01010y 10001y 00110y 00011y 01000y 10011y 01011y 01111y 01111y 01011y 10000y 01011y 01100y 00110y 01110y 01000y 01000y 01001y 01011y 01000y 00100y'.split(' ')"
   ]
  },
  {
   "cell_type": "code",
   "execution_count": 17,
   "metadata": {},
   "outputs": [
    {
     "name": "stdout",
     "output_type": "stream",
     "text": [
      "0 easskrgditlpplqlmgoiijlie\n",
      "1 fbttlshejumqqmrmnhpjjkmjf\n",
      "2 gcuumtifkvnrrnsnoiqkklnkg\n",
      "3 hdvvnujglwossotopjrllmolh\n",
      "4 iewwovkhmxpttpupqksmmnpmi\n",
      "5 jfxxpwlinyquuqvqrltnnoqnj\n",
      "6 kgyyqxmjozrvvrwrsmuooprok\n",
      "7 lhzzrynkpaswwsxstnvppqspl\n",
      "8 miaaszolqbtxxtytuowqqrtqm\n",
      "9 njbbtapmrcuyyuzuvpxrrsurn\n",
      "10 okccubqnsdvzzvavwqysstvso\n",
      "11 plddvcrotewaawbwxrzttuwtp\n",
      "12 qmeewdspufxbbxcxysauuvxuq\n",
      "13 rnffxetqvgyccydyztbvvwyvr\n",
      "14 soggyfurwhzddzezaucwwxzws\n",
      "15 tphhzgvsxiaeeafabvdxxyaxt\n",
      "16 uqiiahwtyjbffbgbcweyyzbyu\n",
      "17 vrjjbixuzkcggchcdxfzzaczv\n",
      "18 wskkcjyvaldhhdideygaabdaw\n",
      "19 xtlldkzwbmeiiejefzhbbcebx\n",
      "20 yummelaxcnfjjfkfgaiccdfcy\n",
      "21 zvnnfmbydogkkglghbjddegdz\n",
      "22 awoognczephllhmhickeefhea\n",
      "23 bxpphodafqimminijdlffgifb\n",
      "24 cyqqipebgrjnnjojkemgghjgc\n",
      "25 dzrrjqfchskookpklfnhhikhd\n",
      "26 easskrgditlpplqlmgoiijlie\n"
     ]
    }
   ],
   "source": [
    "for i in range(27):\n",
    "    print(i, spinner(''.join([chr(97 + int(x[:5], 2)) for x in rotary]), i))"
   ]
  },
  {
   "cell_type": "code",
   "execution_count": null,
   "metadata": {},
   "outputs": [],
   "source": []
  }
 ],
 "metadata": {
  "kernelspec": {
   "display_name": "Python 3",
   "language": "python",
   "name": "python3"
  },
  "language_info": {
   "codemirror_mode": {
    "name": "ipython",
    "version": 3
   },
   "file_extension": ".py",
   "mimetype": "text/x-python",
   "name": "python",
   "nbconvert_exporter": "python",
   "pygments_lexer": "ipython3",
   "version": "3.5.2"
  }
 },
 "nbformat": 4,
 "nbformat_minor": 0
}
