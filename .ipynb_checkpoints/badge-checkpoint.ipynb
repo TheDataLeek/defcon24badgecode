{
 "cells": [
  {
   "cell_type": "code",
   "execution_count": 4,
   "metadata": {},
   "outputs": [],
   "source": [
    "import numpy as np\n",
    "import sympy as sp"
   ]
  },
  {
   "cell_type": "markdown",
   "metadata": {},
   "source": [
    "# DefCon 24 Badge Challenge"
   ]
  },
  {
   "cell_type": "code",
   "execution_count": 5,
   "metadata": {},
   "outputs": [
    {
     "ename": "KeyboardInterrupt",
     "evalue": "",
     "output_type": "error",
     "traceback": [
      "\u001b[0;31m---------------------------------------------------------------------------\u001b[0m",
      "\u001b[0;31mKeyboardInterrupt\u001b[0m                         Traceback (most recent call last)",
      "\u001b[0;32m/home/william/.local/lib/python3.5/site-packages/ipykernel/kernelbase.py\u001b[0m in \u001b[0;36m_input_request\u001b[0;34m(self, prompt, ident, parent, password)\u001b[0m\n\u001b[1;32m    713\u001b[0m             \u001b[0;32mtry\u001b[0m\u001b[0;34m:\u001b[0m\u001b[0;34m\u001b[0m\u001b[0m\n\u001b[0;32m--> 714\u001b[0;31m                 \u001b[0mident\u001b[0m\u001b[0;34m,\u001b[0m \u001b[0mreply\u001b[0m \u001b[0;34m=\u001b[0m \u001b[0mself\u001b[0m\u001b[0;34m.\u001b[0m\u001b[0msession\u001b[0m\u001b[0;34m.\u001b[0m\u001b[0mrecv\u001b[0m\u001b[0;34m(\u001b[0m\u001b[0mself\u001b[0m\u001b[0;34m.\u001b[0m\u001b[0mstdin_socket\u001b[0m\u001b[0;34m,\u001b[0m \u001b[0;36m0\u001b[0m\u001b[0;34m)\u001b[0m\u001b[0;34m\u001b[0m\u001b[0m\n\u001b[0m\u001b[1;32m    715\u001b[0m             \u001b[0;32mexcept\u001b[0m \u001b[0mException\u001b[0m\u001b[0;34m:\u001b[0m\u001b[0;34m\u001b[0m\u001b[0m\n",
      "\u001b[0;32m/home/william/.local/lib/python3.5/site-packages/jupyter_client/session.py\u001b[0m in \u001b[0;36mrecv\u001b[0;34m(self, socket, mode, content, copy)\u001b[0m\n\u001b[1;32m    738\u001b[0m         \u001b[0;32mtry\u001b[0m\u001b[0;34m:\u001b[0m\u001b[0;34m\u001b[0m\u001b[0m\n\u001b[0;32m--> 739\u001b[0;31m             \u001b[0mmsg_list\u001b[0m \u001b[0;34m=\u001b[0m \u001b[0msocket\u001b[0m\u001b[0;34m.\u001b[0m\u001b[0mrecv_multipart\u001b[0m\u001b[0;34m(\u001b[0m\u001b[0mmode\u001b[0m\u001b[0;34m,\u001b[0m \u001b[0mcopy\u001b[0m\u001b[0;34m=\u001b[0m\u001b[0mcopy\u001b[0m\u001b[0;34m)\u001b[0m\u001b[0;34m\u001b[0m\u001b[0m\n\u001b[0m\u001b[1;32m    740\u001b[0m         \u001b[0;32mexcept\u001b[0m \u001b[0mzmq\u001b[0m\u001b[0;34m.\u001b[0m\u001b[0mZMQError\u001b[0m \u001b[0;32mas\u001b[0m \u001b[0me\u001b[0m\u001b[0;34m:\u001b[0m\u001b[0;34m\u001b[0m\u001b[0m\n",
      "\u001b[0;32m/home/william/.local/lib/python3.5/site-packages/zmq/sugar/socket.py\u001b[0m in \u001b[0;36mrecv_multipart\u001b[0;34m(self, flags, copy, track)\u001b[0m\n\u001b[1;32m    394\u001b[0m         \"\"\"\n\u001b[0;32m--> 395\u001b[0;31m         \u001b[0mparts\u001b[0m \u001b[0;34m=\u001b[0m \u001b[0;34m[\u001b[0m\u001b[0mself\u001b[0m\u001b[0;34m.\u001b[0m\u001b[0mrecv\u001b[0m\u001b[0;34m(\u001b[0m\u001b[0mflags\u001b[0m\u001b[0;34m,\u001b[0m \u001b[0mcopy\u001b[0m\u001b[0;34m=\u001b[0m\u001b[0mcopy\u001b[0m\u001b[0;34m,\u001b[0m \u001b[0mtrack\u001b[0m\u001b[0;34m=\u001b[0m\u001b[0mtrack\u001b[0m\u001b[0;34m)\u001b[0m\u001b[0;34m]\u001b[0m\u001b[0;34m\u001b[0m\u001b[0m\n\u001b[0m\u001b[1;32m    396\u001b[0m         \u001b[0;31m# have first part already, only loop while more to receive\u001b[0m\u001b[0;34m\u001b[0m\u001b[0;34m\u001b[0m\u001b[0m\n",
      "\u001b[0;32mzmq/backend/cython/socket.pyx\u001b[0m in \u001b[0;36mzmq.backend.cython.socket.Socket.recv (zmq/backend/cython/socket.c:7283)\u001b[0;34m()\u001b[0m\n",
      "\u001b[0;32mzmq/backend/cython/socket.pyx\u001b[0m in \u001b[0;36mzmq.backend.cython.socket.Socket.recv (zmq/backend/cython/socket.c:7081)\u001b[0;34m()\u001b[0m\n",
      "\u001b[0;32mzmq/backend/cython/socket.pyx\u001b[0m in \u001b[0;36mzmq.backend.cython.socket._recv_copy (zmq/backend/cython/socket.c:2033)\u001b[0;34m()\u001b[0m\n",
      "\u001b[0;32m/home/william/.local/lib/python3.5/site-packages/zmq/backend/cython/checkrc.pxd\u001b[0m in \u001b[0;36mzmq.backend.cython.checkrc._check_rc (zmq/backend/cython/socket.c:7522)\u001b[0;34m()\u001b[0m\n",
      "\u001b[0;31mKeyboardInterrupt\u001b[0m: ",
      "\nDuring handling of the above exception, another exception occurred:\n",
      "\u001b[0;31mKeyboardInterrupt\u001b[0m                         Traceback (most recent call last)",
      "\u001b[0;32m<ipython-input-5-f44d34b1e158>\u001b[0m in \u001b[0;36m<module>\u001b[0;34m()\u001b[0m\n\u001b[1;32m      1\u001b[0m \u001b[0;32mimport\u001b[0m \u001b[0mstring\u001b[0m\u001b[0;34m\u001b[0m\u001b[0m\n\u001b[0;32m----> 2\u001b[0;31m \u001b[0mrows\u001b[0m\u001b[0;34m=\u001b[0m\u001b[0minput\u001b[0m\u001b[0;34m(\u001b[0m\u001b[0;34m)\u001b[0m\u001b[0;34m.\u001b[0m\u001b[0msplit\u001b[0m\u001b[0;34m(\u001b[0m\u001b[0;34m)\u001b[0m\u001b[0;34m\u001b[0m\u001b[0m\n\u001b[0m\u001b[1;32m      3\u001b[0m \u001b[0mresult\u001b[0m\u001b[0;34m=\u001b[0m\u001b[0;34m''\u001b[0m\u001b[0;34m\u001b[0m\u001b[0m\n\u001b[1;32m      4\u001b[0m \u001b[0;32mfor\u001b[0m \u001b[0mrow\u001b[0m \u001b[0;32min\u001b[0m \u001b[0mrows\u001b[0m\u001b[0;34m:\u001b[0m\u001b[0;34m\u001b[0m\u001b[0m\n\u001b[1;32m      5\u001b[0m     \u001b[0mresult\u001b[0m\u001b[0;34m+=\u001b[0m\u001b[0mstring\u001b[0m\u001b[0;34m.\u001b[0m\u001b[0mascii_lowercase\u001b[0m\u001b[0;34m[\u001b[0m\u001b[0mint\u001b[0m\u001b[0;34m(\u001b[0m\u001b[0mrow\u001b[0m\u001b[0;34m[\u001b[0m\u001b[0;34m:\u001b[0m\u001b[0;36m2\u001b[0m\u001b[0;34m]\u001b[0m\u001b[0;34m)\u001b[0m\u001b[0;34m-\u001b[0m\u001b[0;36m1\u001b[0m\u001b[0;34m]\u001b[0m\u001b[0;34m\u001b[0m\u001b[0m\n",
      "\u001b[0;32m/home/william/.local/lib/python3.5/site-packages/ipykernel/kernelbase.py\u001b[0m in \u001b[0;36mraw_input\u001b[0;34m(self, prompt)\u001b[0m\n\u001b[1;32m    687\u001b[0m             \u001b[0mself\u001b[0m\u001b[0;34m.\u001b[0m\u001b[0m_parent_ident\u001b[0m\u001b[0;34m,\u001b[0m\u001b[0;34m\u001b[0m\u001b[0m\n\u001b[1;32m    688\u001b[0m             \u001b[0mself\u001b[0m\u001b[0;34m.\u001b[0m\u001b[0m_parent_header\u001b[0m\u001b[0;34m,\u001b[0m\u001b[0;34m\u001b[0m\u001b[0m\n\u001b[0;32m--> 689\u001b[0;31m             \u001b[0mpassword\u001b[0m\u001b[0;34m=\u001b[0m\u001b[0;32mFalse\u001b[0m\u001b[0;34m,\u001b[0m\u001b[0;34m\u001b[0m\u001b[0m\n\u001b[0m\u001b[1;32m    690\u001b[0m         )\n\u001b[1;32m    691\u001b[0m \u001b[0;34m\u001b[0m\u001b[0m\n",
      "\u001b[0;32m/home/william/.local/lib/python3.5/site-packages/ipykernel/kernelbase.py\u001b[0m in \u001b[0;36m_input_request\u001b[0;34m(self, prompt, ident, parent, password)\u001b[0m\n\u001b[1;32m    717\u001b[0m             \u001b[0;32mexcept\u001b[0m \u001b[0mKeyboardInterrupt\u001b[0m\u001b[0;34m:\u001b[0m\u001b[0;34m\u001b[0m\u001b[0m\n\u001b[1;32m    718\u001b[0m                 \u001b[0;31m# re-raise KeyboardInterrupt, to truncate traceback\u001b[0m\u001b[0;34m\u001b[0m\u001b[0;34m\u001b[0m\u001b[0m\n\u001b[0;32m--> 719\u001b[0;31m                 \u001b[0;32mraise\u001b[0m \u001b[0mKeyboardInterrupt\u001b[0m\u001b[0;34m\u001b[0m\u001b[0m\n\u001b[0m\u001b[1;32m    720\u001b[0m             \u001b[0;32melse\u001b[0m\u001b[0;34m:\u001b[0m\u001b[0;34m\u001b[0m\u001b[0m\n\u001b[1;32m    721\u001b[0m                 \u001b[0;32mbreak\u001b[0m\u001b[0;34m\u001b[0m\u001b[0m\n",
      "\u001b[0;31mKeyboardInterrupt\u001b[0m: "
     ]
    }
   ],
   "source": [
    "import string\n",
    "rows=input().split()\n",
    "result=''\n",
    "for row in rows:\n",
    "    result+=string.ascii_lowercase[int(row[:2])-1]\n",
    "    result+=string.ascii_lowercase[int(row[2:4])-1]\n",
    "print(result) "
   ]
  },
  {
   "cell_type": "code",
   "execution_count": 6,
   "metadata": {},
   "outputs": [],
   "source": [
    "def spinner(s, n):\n",
    "    def rotate_letter(c, n):\n",
    "        return chr((((ord(c) - 97) + n) % 26) + 97)\n",
    "    return ''.join([rotate_letter(c, n) for c in s])"
   ]
  },
  {
   "cell_type": "code",
   "execution_count": 7,
   "metadata": {},
   "outputs": [
    {
     "name": "stdout",
     "output_type": "stream",
     "text": [
      "0 cnpxzlobkjvgusvirqbmrayvdhbewhtf\n",
      "1 doqyampclkwhvtwjsrcnsbzweicfxiug\n",
      "2 eprzbnqdmlxiwuxktsdotcaxfjdgyjvh\n",
      "3 fqsacorenmyjxvylutepudbygkehzkwi\n",
      "4 grtbdpsfonzkywzmvufqveczhlfialxj\n",
      "5 hsuceqtgpoalzxanwvgrwfdaimgjbmyk\n",
      "6 itvdfruhqpbmayboxwhsxgebjnhkcnzl\n",
      "7 juwegsvirqcnbzcpyxityhfckoildoam\n",
      "8 kvxfhtwjsrdocadqzyjuzigdlpjmepbn\n",
      "9 lwygiuxktsepdberazkvajhemqknfqco\n",
      "10 mxzhjvylutfqecfsbalwbkifnrlogrdp\n",
      "11 nyaikwzmvugrfdgtcbmxcljgosmphseq\n",
      "12 ozbjlxanwvhsgehudcnydmkhptnqitfr\n",
      "13 packmyboxwithfivedozenliquorjugs\n",
      "14 qbdlnzcpyxjuigjwfepafomjrvpskvht\n",
      "15 rcemoadqzykvjhkxgfqbgpnkswqtlwiu\n",
      "16 sdfnpberazlwkilyhgrchqoltxrumxjv\n",
      "17 tegoqcfsbamxljmzihsdirpmuysvnykw\n",
      "18 ufhprdgtcbnymknajitejsqnvztwozlx\n",
      "19 vgiqsehudcoznlobkjufktrowauxpamy\n",
      "20 whjrtfivedpaompclkvgluspxbvyqbnz\n",
      "21 xiksugjwfeqbpnqdmlwhmvtqycwzrcoa\n",
      "22 yjltvhkxgfrcqorenmxinwurzdxasdpb\n",
      "23 zkmuwilyhgsdrpsfonyjoxvsaeybteqc\n",
      "24 alnvxjmzihtesqtgpozkpywtbfzcufrd\n",
      "25 bmowyknajiuftruhqpalqzxucgadvgse\n",
      "26 cnpxzlobkjvgusvirqbmrayvdhbewhtf\n"
     ]
    }
   ],
   "source": [
    "for i in range(27):\n",
    "    print(i, spinner('cnpxzlobkjvgusvirqbmrayvdhbewhtf', i))"
   ]
  },
  {
   "cell_type": "code",
   "execution_count": 19,
   "metadata": {},
   "outputs": [
    {
     "name": "stdout",
     "output_type": "stream",
     "text": [
      "0 gursvirobkvatjvmneqfwhzcdhvpxyl\n",
      "1 hvstwjspclwbukwnofrgxiadeiwqyzm\n",
      "2 iwtuxktqdmxcvlxopgshyjbefjxrzan\n",
      "3 jxuvylurenydwmypqhtizkcfgkysabo\n",
      "4 kyvwzmvsfozexnzqriujaldghlztbcp\n",
      "5 lzwxanwtgpafyoarsjvkbmehimaucdq\n",
      "6 maxyboxuhqbgzpbstkwlcnfijnbvder\n",
      "7 nbyzcpyvirchaqctulxmdogjkocwefs\n",
      "8 oczadqzwjsdibrduvmynephklpdxfgt\n",
      "9 pdaberaxktejcsevwnzofqilmqeyghu\n",
      "10 qebcfsbylufkdtfwxoapgrjmnrfzhiv\n",
      "11 rfcdgtczmvgleugxypbqhsknosgaijw\n",
      "12 sgdehudanwhmfvhyzqcritlopthbjkx\n",
      "13 thefiveboxingwizardsjumpquickly\n",
      "14 uifgjwfcpyjohxjabsetkvnqrvjdlmz\n",
      "15 vjghkxgdqzkpiykbctfulworswkemna\n",
      "16 wkhilyheralqjzlcdugvmxpstxlfnob\n",
      "17 xlijmzifsbmrkamdevhwnyqtuymgopc\n",
      "18 ymjknajgtcnslbnefwixozruvznhpqd\n",
      "19 znklobkhudotmcofgxjypasvwaoiqre\n",
      "20 aolmpclivepundpghykzqbtwxbpjrsf\n",
      "21 bpmnqdmjwfqvoeqhizlarcuxycqkstg\n",
      "22 cqnorenkxgrwpfrijambsdvyzdrltuh\n",
      "23 dropsfolyhsxqgsjkbnctewzaesmuvi\n",
      "24 espqtgpmzityrhtklcodufxabftnvwj\n",
      "25 ftqruhqnajuzsiulmdpevgybcguowxk\n",
      "26 gursvirobkvatjvmneqfwhzcdhvpxyl\n"
     ]
    }
   ],
   "source": [
    "for i in range(27):\n",
    "    print(i, spinner('gursvirobkvatjvmneqfwhzcdhvpxyl', i))"
   ]
  },
  {
   "cell_type": "code",
   "execution_count": 20,
   "metadata": {},
   "outputs": [
    {
     "name": "stdout",
     "output_type": "stream",
     "text": [
      "0 cnpxzlobkjvgusvirqbmrayvdhbewhtf\n",
      "1 doqyampclkwhvtwjsrcnsbzweicfxiug\n",
      "2 eprzbnqdmlxiwuxktsdotcaxfjdgyjvh\n",
      "3 fqsacorenmyjxvylutepudbygkehzkwi\n",
      "4 grtbdpsfonzkywzmvufqveczhlfialxj\n",
      "5 hsuceqtgpoalzxanwvgrwfdaimgjbmyk\n",
      "6 itvdfruhqpbmayboxwhsxgebjnhkcnzl\n",
      "7 juwegsvirqcnbzcpyxityhfckoildoam\n",
      "8 kvxfhtwjsrdocadqzyjuzigdlpjmepbn\n",
      "9 lwygiuxktsepdberazkvajhemqknfqco\n",
      "10 mxzhjvylutfqecfsbalwbkifnrlogrdp\n",
      "11 nyaikwzmvugrfdgtcbmxcljgosmphseq\n",
      "12 ozbjlxanwvhsgehudcnydmkhptnqitfr\n",
      "13 packmyboxwithfivedozenliquorjugs\n",
      "14 qbdlnzcpyxjuigjwfepafomjrvpskvht\n",
      "15 rcemoadqzykvjhkxgfqbgpnkswqtlwiu\n",
      "16 sdfnpberazlwkilyhgrchqoltxrumxjv\n",
      "17 tegoqcfsbamxljmzihsdirpmuysvnykw\n",
      "18 ufhprdgtcbnymknajitejsqnvztwozlx\n",
      "19 vgiqsehudcoznlobkjufktrowauxpamy\n",
      "20 whjrtfivedpaompclkvgluspxbvyqbnz\n",
      "21 xiksugjwfeqbpnqdmlwhmvtqycwzrcoa\n",
      "22 yjltvhkxgfrcqorenmxinwurzdxasdpb\n",
      "23 zkmuwilyhgsdrpsfonyjoxvsaeybteqc\n",
      "24 alnvxjmzihtesqtgpozkpywtbfzcufrd\n",
      "25 bmowyknajiuftruhqpalqzxucgadvgse\n",
      "26 cnpxzlobkjvgusvirqbmrayvdhbewhtf\n"
     ]
    }
   ],
   "source": [
    "for i in range(27):\n",
    "    print(i, spinner('cnpxzlobkjvgusvirqbmrayvdhbewhtf', i))"
   ]
  },
  {
   "cell_type": "code",
   "execution_count": null,
   "metadata": {},
   "outputs": [],
   "source": [
    "0314\n",
    "1624\n",
    "2612\n",
    "1502\n",
    "1110\n",
    "2207\n",
    "2119\n",
    "2209\n",
    "1817\n",
    "0213\n",
    "1801\n",
    "2522\n",
    "0408\n",
    "0205\n",
    "2308\n",
    "2006"
   ]
  }
 ],
 "metadata": {
  "kernelspec": {
   "display_name": "Python 3",
   "language": "python",
   "name": "python3"
  },
  "language_info": {
   "codemirror_mode": {
    "name": "ipython",
    "version": 3
   },
   "file_extension": ".py",
   "mimetype": "text/x-python",
   "name": "python",
   "nbconvert_exporter": "python",
   "pygments_lexer": "ipython3",
   "version": "3.5.2"
  }
 },
 "nbformat": 4,
 "nbformat_minor": 0
}
